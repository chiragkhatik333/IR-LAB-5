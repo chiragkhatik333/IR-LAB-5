{
  "nbformat": 4,
  "nbformat_minor": 0,
  "metadata": {
    "colab": {
      "name": "Untitled2.ipynb",
      "provenance": [],
      "toc_visible": true
    },
    "kernelspec": {
      "name": "python3",
      "display_name": "Python 3"
    },
    "language_info": {
      "name": "python"
    }
  },
  "cells": [
    {
      "cell_type": "code",
      "metadata": {
        "id": "jZ_gKpP7MS7y",
        "colab": {
          "base_uri": "https://localhost:8080/"
        },
        "outputId": "aa828f01-13c2-400b-9f46-e7534dd5a40b"
      },
      "source": [
        "import numpy as np\n",
        "import matplotlib.pyplot as plt\n",
        "import seaborn as sns; sns.set()\n",
        "from sklearn.datasets import fetch_20newsgroups\n",
        "data=fetch_20newsgroups()\n",
        "data.target_names"
      ],
      "execution_count": null,
      "outputs": [
        {
          "output_type": "stream",
          "name": "stderr",
          "text": [
            "Downloading 20news dataset. This may take a few minutes.\n",
            "Downloading dataset from https://ndownloader.figshare.com/files/5975967 (14 MB)\n"
          ]
        },
        {
          "output_type": "execute_result",
          "data": {
            "text/plain": [
              "['alt.atheism',\n",
              " 'comp.graphics',\n",
              " 'comp.os.ms-windows.misc',\n",
              " 'comp.sys.ibm.pc.hardware',\n",
              " 'comp.sys.mac.hardware',\n",
              " 'comp.windows.x',\n",
              " 'misc.forsale',\n",
              " 'rec.autos',\n",
              " 'rec.motorcycles',\n",
              " 'rec.sport.baseball',\n",
              " 'rec.sport.hockey',\n",
              " 'sci.crypt',\n",
              " 'sci.electronics',\n",
              " 'sci.med',\n",
              " 'sci.space',\n",
              " 'soc.religion.christian',\n",
              " 'talk.politics.guns',\n",
              " 'talk.politics.mideast',\n",
              " 'talk.politics.misc',\n",
              " 'talk.religion.misc']"
            ]
          },
          "metadata": {},
          "execution_count": 1
        }
      ]
    },
    {
      "cell_type": "code",
      "metadata": {
        "colab": {
          "base_uri": "https://localhost:8080/"
        },
        "id": "a4pqGGqn5Jlr",
        "outputId": "27ec49c2-ea9a-4896-f4e6-9d3d40530c77"
      },
      "source": [
        "categories=['alt.atheism',\n",
        " 'comp.graphics',\n",
        " 'comp.os.ms-windows.misc',\n",
        " 'comp.sys.ibm.pc.hardware',\n",
        " 'comp.sys.mac.hardware',\n",
        " 'comp.windows.x',\n",
        " 'misc.forsale',\n",
        " 'rec.autos',\n",
        " 'rec.motorcycles',\n",
        " 'rec.sport.baseball',\n",
        " 'rec.sport.hockey',\n",
        " 'sci.crypt',\n",
        " 'sci.electronics',\n",
        " 'sci.med',\n",
        " 'sci.space',\n",
        " 'soc.religion.christian',\n",
        " 'talk.politics.guns',\n",
        " 'talk.politics.mideast',\n",
        " 'talk.politics.misc',\n",
        " 'talk.religion.misc']\n",
        "news_train=fetch_20newsgroups(subset='train',categories=categories)\n",
        "news_test=fetch_20newsgroups(subset='test',categories=categories)\n",
        "print(news_train.data[5])"
      ],
      "execution_count": null,
      "outputs": [
        {
          "output_type": "stream",
          "name": "stdout",
          "text": [
            "From: dfo@vttoulu.tko.vtt.fi (Foxvog Douglas)\n",
            "Subject: Re: Rewording the Second Amendment (ideas)\n",
            "Organization: VTT\n",
            "Lines: 58\n",
            "\n",
            "In article <1r1eu1$4t@transfer.stratus.com> cdt@sw.stratus.com (C. D. Tavares) writes:\n",
            ">In article <1993Apr20.083057.16899@ousrvr.oulu.fi>, dfo@vttoulu.tko.vtt.fi (Foxvog Douglas) writes:\n",
            ">> In article <1qv87v$4j3@transfer.stratus.com> cdt@sw.stratus.com (C. D. Tavares) writes:\n",
            ">> >In article <C5n3GI.F8F@ulowell.ulowell.edu>, jrutledg@cs.ulowell.edu (John Lawrence Rutledge) writes:\n",
            ">\n",
            ">> >> The massive destructive power of many modern weapons, makes the\n",
            ">> >> cost of an accidental or crimial usage of these weapons to great.\n",
            ">> >> The weapons of mass destruction need to be in the control of\n",
            ">> >> the government only.  Individual access would result in the\n",
            ">> >> needless deaths of millions.  This makes the right of the people\n",
            ">> >> to keep and bear many modern weapons non-existant.\n",
            "\n",
            ">> >Thanks for stating where you're coming from.  Needless to say, I\n",
            ">> >disagree on every count.\n",
            "\n",
            ">> You believe that individuals should have the right to own weapons of\n",
            ">> mass destruction?  I find it hard to believe that you would support a \n",
            ">> neighbor's right to keep nuclear weapons, biological weapons, and nerve\n",
            ">> gas on his/her property.  \n",
            "\n",
            ">> If we cannot even agree on keeping weapons of mass destruction out of\n",
            ">> the hands of individuals, can there be any hope for us?\n",
            "\n",
            ">I don't sign any blank checks.\n",
            "\n",
            "Of course.  The term must be rigidly defined in any bill.\n",
            "\n",
            ">When Doug Foxvog says \"weapons of mass destruction,\" he means CBW and\n",
            ">nukes.  When Sarah Brady says \"weapons of mass destruction\" she means\n",
            ">Street Sweeper shotguns and semi-automatic SKS rifles.  \n",
            "\n",
            "I doubt she uses this term for that.  You are using a quote allegedly\n",
            "from her, can you back it up?\n",
            "\n",
            ">When John\n",
            ">Lawrence Rutledge says \"weapons of mass destruction,\" and then immediately\n",
            ">follows it with:\n",
            "\n",
            ">>> The US has thousands of people killed each year by handguns,\n",
            ">>> this number can easily be reduced by putting reasonable restrictions\n",
            ">>> on them.\n",
            "\n",
            ">...what does Rutledge mean by the term?\n",
            "\n",
            "I read the article as presenting first an argument about weapons of mass\n",
            "destruction (as commonly understood) and then switching to other topics.\n",
            "The first point evidently was to show that not all weapons should be\n",
            "allowed, and then the later analysis was, given this understanding, to\n",
            "consider another class.\n",
            "\n",
            ">cdt@rocket.sw.stratus.com   --If you believe that I speak for my company,\n",
            ">OR cdt@vos.stratus.com        write today for my special Investors' Packet...\n",
            "\n",
            "\n",
            "\n",
            "-- \n",
            "doug foxvog\n",
            "douglas.foxvog@vtt.fi\n",
            "\n"
          ]
        }
      ]
    },
    {
      "cell_type": "code",
      "metadata": {
        "colab": {
          "base_uri": "https://localhost:8080/"
        },
        "id": "MWOUGTeGBKNC",
        "outputId": "e56cf10c-05fc-433b-c1bf-9d2ca945ebe8"
      },
      "source": [
        "from sklearn.feature_extraction.text import CountVectorizer\n",
        "count_vect=CountVectorizer()\n",
        "X_train_tf=count_vect.fit_transform(news_train.data)\n",
        "X_train_tf.shape"
      ],
      "execution_count": null,
      "outputs": [
        {
          "output_type": "execute_result",
          "data": {
            "text/plain": [
              "(11314, 130107)"
            ]
          },
          "metadata": {},
          "execution_count": 14
        }
      ]
    },
    {
      "cell_type": "code",
      "metadata": {
        "colab": {
          "base_uri": "https://localhost:8080/"
        },
        "id": "2dIvO3dgB70k",
        "outputId": "a4292864-a693-490d-d7d4-87f2d830de92"
      },
      "source": [
        "from sklearn.feature_extraction.text import TfidfTransformer\n",
        "tfidf_transformer=TfidfTransformer()\n",
        "X_train_tfidf=tfidf_transformer.fit_transform(X_train_tf)\n",
        "X_train_tfidf.shape"
      ],
      "execution_count": null,
      "outputs": [
        {
          "output_type": "execute_result",
          "data": {
            "text/plain": [
              "(11314, 130107)"
            ]
          },
          "metadata": {},
          "execution_count": 8
        }
      ]
    },
    {
      "cell_type": "code",
      "metadata": {
        "id": "_OMndqFLDHdc"
      },
      "source": [
        "from sklearn.naive_bayes import MultinomialNB\n",
        "clf=MultinomialNB().fit(X_train_tfidf,news_train.target)"
      ],
      "execution_count": null,
      "outputs": []
    },
    {
      "cell_type": "code",
      "metadata": {
        "id": "5DcH3GfMDuqq"
      },
      "source": [
        "X_test_tf=count_vect.transform(news_test.data)\n",
        "X_test_tfidf=tfidf_transformer.transform(X_test_tf)\n",
        "predicted=clf.predict(X_test_tfidf)\n"
      ],
      "execution_count": null,
      "outputs": []
    },
    {
      "cell_type": "code",
      "metadata": {
        "colab": {
          "base_uri": "https://localhost:8080/"
        },
        "id": "teCjSCBzEpKU",
        "outputId": "dc82296e-7afb-4089-fb26-30588bd27fd5"
      },
      "source": [
        "from sklearn import metrics\n",
        "from sklearn.metrics import accuracy_score\n",
        "print(\"ACCURACY :\",accuracy_score(news_test.target,predicted))\n",
        "print(metrics.classification_report(news_test.target,predicted,target_names=news_test.target_names)),\n",
        "metrics.confusion_matrix(news_test.target,predicted)"
      ],
      "execution_count": null,
      "outputs": [
        {
          "output_type": "stream",
          "name": "stdout",
          "text": [
            "ACCURACY : 0.7738980350504514\n",
            "                          precision    recall  f1-score   support\n",
            "\n",
            "             alt.atheism       0.80      0.52      0.63       319\n",
            "           comp.graphics       0.81      0.65      0.72       389\n",
            " comp.os.ms-windows.misc       0.82      0.65      0.73       394\n",
            "comp.sys.ibm.pc.hardware       0.67      0.78      0.72       392\n",
            "   comp.sys.mac.hardware       0.86      0.77      0.81       385\n",
            "          comp.windows.x       0.89      0.75      0.82       395\n",
            "            misc.forsale       0.93      0.69      0.80       390\n",
            "               rec.autos       0.85      0.92      0.88       396\n",
            "         rec.motorcycles       0.94      0.93      0.93       398\n",
            "      rec.sport.baseball       0.92      0.90      0.91       397\n",
            "        rec.sport.hockey       0.89      0.97      0.93       399\n",
            "               sci.crypt       0.59      0.97      0.74       396\n",
            "         sci.electronics       0.84      0.60      0.70       393\n",
            "                 sci.med       0.92      0.74      0.82       396\n",
            "               sci.space       0.84      0.89      0.87       394\n",
            "  soc.religion.christian       0.44      0.98      0.61       398\n",
            "      talk.politics.guns       0.64      0.94      0.76       364\n",
            "   talk.politics.mideast       0.93      0.91      0.92       376\n",
            "      talk.politics.misc       0.96      0.42      0.58       310\n",
            "      talk.religion.misc       0.97      0.14      0.24       251\n",
            "\n",
            "                accuracy                           0.77      7532\n",
            "               macro avg       0.83      0.76      0.76      7532\n",
            "            weighted avg       0.82      0.77      0.77      7532\n",
            "\n"
          ]
        },
        {
          "output_type": "execute_result",
          "data": {
            "text/plain": [
              "array([[166,   0,   0,   1,   0,   1,   0,   0,   1,   1,   1,   3,   0,\n",
              "          6,   3, 123,   4,   8,   0,   1],\n",
              "       [  1, 252,  15,  12,   9,  18,   1,   2,   1,   5,   2,  41,   4,\n",
              "          0,   6,  15,   4,   1,   0,   0],\n",
              "       [  0,  14, 258,  45,   3,   9,   0,   2,   1,   3,   2,  25,   1,\n",
              "          0,   6,  23,   2,   0,   0,   0],\n",
              "       [  0,   5,  11, 305,  17,   1,   3,   6,   1,   0,   2,  19,  13,\n",
              "          0,   5,   3,   1,   0,   0,   0],\n",
              "       [  0,   3,   8,  23, 298,   0,   3,   8,   1,   3,   1,  16,   8,\n",
              "          0,   2,   8,   3,   0,   0,   0],\n",
              "       [  1,  21,  17,  13,   2, 298,   1,   0,   1,   1,   0,  23,   0,\n",
              "          1,   4,  10,   2,   0,   0,   0],\n",
              "       [  0,   1,   3,  31,  12,   1, 271,  19,   4,   4,   6,   5,  12,\n",
              "          6,   3,   9,   3,   0,   0,   0],\n",
              "       [  0,   1,   0,   3,   0,   0,   4, 364,   3,   2,   2,   4,   1,\n",
              "          1,   3,   3,   4,   0,   1,   0],\n",
              "       [  0,   0,   0,   1,   0,   0,   2,  10, 371,   0,   0,   4,   0,\n",
              "          0,   0,   8,   2,   0,   0,   0],\n",
              "       [  0,   0,   0,   0,   1,   0,   0,   4,   0, 357,  22,   0,   0,\n",
              "          0,   2,   9,   1,   1,   0,   0],\n",
              "       [  0,   0,   0,   0,   0,   0,   0,   1,   0,   4, 387,   1,   0,\n",
              "          0,   1,   5,   0,   0,   0,   0],\n",
              "       [  0,   2,   1,   0,   0,   1,   1,   3,   0,   0,   0, 383,   1,\n",
              "          0,   0,   3,   1,   0,   0,   0],\n",
              "       [  0,   4,   2,  17,   5,   0,   2,   8,   7,   1,   2,  78, 235,\n",
              "          3,  11,  15,   2,   1,   0,   0],\n",
              "       [  2,   3,   0,   1,   1,   3,   1,   0,   2,   3,   4,  11,   5,\n",
              "        292,   6,  52,   6,   4,   0,   0],\n",
              "       [  0,   2,   0,   1,   0,   3,   0,   2,   1,   0,   1,   6,   1,\n",
              "          2, 351,  19,   4,   0,   1,   0],\n",
              "       [  2,   0,   0,   0,   0,   0,   0,   0,   1,   0,   0,   0,   0,\n",
              "          1,   2, 392,   0,   0,   0,   0],\n",
              "       [  0,   0,   0,   1,   0,   0,   2,   0,   1,   1,   0,  10,   0,\n",
              "          0,   1,   6, 341,   1,   0,   0],\n",
              "       [  0,   1,   0,   0,   0,   0,   0,   0,   0,   1,   0,   2,   0,\n",
              "          0,   0,  24,   3, 344,   1,   0],\n",
              "       [  2,   0,   0,   0,   0,   0,   0,   1,   0,   0,   1,  11,   0,\n",
              "          1,   7,  35, 118,   5, 129,   0],\n",
              "       [ 33,   2,   0,   0,   0,   0,   0,   0,   0,   1,   1,   3,   0,\n",
              "          4,   4, 131,  29,   5,   3,  35]])"
            ]
          },
          "metadata": {},
          "execution_count": 12
        }
      ]
    }
  ]
}
