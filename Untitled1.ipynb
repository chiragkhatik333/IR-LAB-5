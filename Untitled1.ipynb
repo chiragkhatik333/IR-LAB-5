{
  "nbformat": 4,
  "nbformat_minor": 0,
  "metadata": {
    "colab": {
      "name": "Untitled1.ipynb",
      "provenance": [],
      "collapsed_sections": []
    },
    "kernelspec": {
      "name": "python3",
      "display_name": "Python 3"
    },
    "language_info": {
      "name": "python"
    }
  },
  "cells": [
    {
      "cell_type": "code",
      "metadata": {
        "colab": {
          "base_uri": "https://localhost:8080/"
        },
        "id": "_pm-2N89pZzH",
        "outputId": "15bf3cb7-88e2-4f6e-c1f9-562fbeed63f1"
      },
      "source": [
        "from sklearn.neighbors import KNeighborsClassifier\n",
        "from sklearn.pipeline import Pipeline\n",
        "from sklearn import metrics\n",
        "from sklearn.feature_extraction.text import CountVectorizer\n",
        "from sklearn.feature_extraction.text import TfidfTransformer\n",
        "from sklearn.datasets import fetch_20newsgroups\n",
        "from sklearn.metrics import accuracy_score\n",
        "\n",
        "newsgroups_train = fetch_20newsgroups(subset='train')\n",
        "newsgroups_test = fetch_20newsgroups(subset='test')\n",
        "X_train = newsgroups_train.data\n",
        "X_test = newsgroups_test.data\n",
        "y_train = newsgroups_train.target\n",
        "y_test = newsgroups_test.target\n",
        "\n",
        "text_clf = Pipeline([('vect', CountVectorizer()),\n",
        "                     ('tfidf', TfidfTransformer()),\n",
        "                     ('clf', KNeighborsClassifier()),\n",
        "                     ])\n",
        "\n",
        "text_clf.fit(X_train, y_train)\n",
        "\n",
        "predicted = text_clf.predict(X_test)\n",
        "print(\"ACCURACY :\",accuracy_score(newsgroups_test.target,predicted))\n",
        "print(metrics.classification_report(y_test, predicted))\n"
      ],
      "execution_count": 3,
      "outputs": [
        {
          "output_type": "stream",
          "name": "stdout",
          "text": [
            "ACCURACY : 0.6591874668082847\n",
            "              precision    recall  f1-score   support\n",
            "\n",
            "           0       0.43      0.76      0.55       319\n",
            "           1       0.50      0.61      0.55       389\n",
            "           2       0.56      0.57      0.57       394\n",
            "           3       0.53      0.58      0.56       392\n",
            "           4       0.59      0.56      0.57       385\n",
            "           5       0.69      0.60      0.64       395\n",
            "           6       0.58      0.45      0.51       390\n",
            "           7       0.75      0.69      0.72       396\n",
            "           8       0.84      0.81      0.82       398\n",
            "           9       0.77      0.72      0.74       397\n",
            "          10       0.85      0.84      0.84       399\n",
            "          11       0.76      0.84      0.80       396\n",
            "          12       0.70      0.50      0.58       393\n",
            "          13       0.82      0.49      0.62       396\n",
            "          14       0.79      0.76      0.78       394\n",
            "          15       0.75      0.76      0.76       398\n",
            "          16       0.70      0.73      0.72       364\n",
            "          17       0.62      0.76      0.69       376\n",
            "          18       0.55      0.61      0.58       310\n",
            "          19       0.56      0.49      0.52       251\n",
            "\n",
            "    accuracy                           0.66      7532\n",
            "   macro avg       0.67      0.66      0.65      7532\n",
            "weighted avg       0.67      0.66      0.66      7532\n",
            "\n"
          ]
        }
      ]
    }
  ]
}