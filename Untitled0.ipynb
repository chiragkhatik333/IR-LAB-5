{
  "nbformat": 4,
  "nbformat_minor": 0,
  "metadata": {
    "colab": {
      "name": "Untitled0.ipynb",
      "provenance": []
    },
    "kernelspec": {
      "name": "python3",
      "display_name": "Python 3"
    },
    "language_info": {
      "name": "python"
    }
  },
  "cells": [
    {
      "cell_type": "code",
      "metadata": {
        "colab": {
          "base_uri": "https://localhost:8080/"
        },
        "id": "eriOWslp5xKW",
        "outputId": "72b7cd03-dee7-42f7-8969-62001154f7e7"
      },
      "source": [
        "import numpy as np\n",
        "import matplotlib.pyplot as plt\n",
        "from sklearn.neighbors.nearest_centroid import NearestCentroid\n",
        "from sklearn.pipeline import Pipeline\n",
        "import seaborn as sns; sns.set()\n",
        "from sklearn.feature_extraction.text import CountVectorizer\n",
        "from sklearn.feature_extraction.text import TfidfTransformer\n",
        "from sklearn.naive_bayes import MultinomialNB\n",
        "from sklearn import metrics\n",
        "from sklearn.metrics import accuracy_score\n",
        "from sklearn.datasets import fetch_20newsgroups\n",
        "data=fetch_20newsgroups()\n",
        "data.target_names\n",
        "\n",
        "newsgroups_train = fetch_20newsgroups(subset='train')\n",
        "newsgroups_test = fetch_20newsgroups(subset='test')\n",
        "X_train = newsgroups_train.data\n",
        "X_test = newsgroups_test.data\n",
        "y_train = newsgroups_train.target\n",
        "y_test = newsgroups_test.target\n",
        "\n",
        "text_clf = Pipeline([('vect', CountVectorizer()),('tfidf', TfidfTransformer()),('clf', NearestCentroid()),])\n",
        "\n",
        "text_clf.fit(X_train, y_train)\n",
        "\n",
        "\n",
        "predicted = text_clf.predict(X_test)\n",
        "print(\"ACCURACY :\",accuracy_score(newsgroups_test.target,predicted))\n",
        "print(metrics.classification_report(y_test, predicted))"
      ],
      "execution_count": 7,
      "outputs": [
        {
          "output_type": "stream",
          "name": "stdout",
          "text": [
            "ACCURACY : 0.692113648433351\n",
            "              precision    recall  f1-score   support\n",
            "\n",
            "           0       0.75      0.49      0.60       319\n",
            "           1       0.44      0.76      0.56       389\n",
            "           2       0.75      0.68      0.71       394\n",
            "           3       0.71      0.59      0.65       392\n",
            "           4       0.81      0.71      0.76       385\n",
            "           5       0.83      0.66      0.74       395\n",
            "           6       0.49      0.88      0.63       390\n",
            "           7       0.86      0.76      0.80       396\n",
            "           8       0.91      0.86      0.89       398\n",
            "           9       0.85      0.79      0.82       397\n",
            "          10       0.95      0.80      0.87       399\n",
            "          11       0.94      0.66      0.78       396\n",
            "          12       0.40      0.70      0.51       393\n",
            "          13       0.84      0.49      0.62       396\n",
            "          14       0.89      0.72      0.80       394\n",
            "          15       0.55      0.73      0.63       398\n",
            "          16       0.68      0.76      0.71       364\n",
            "          17       0.97      0.70      0.81       376\n",
            "          18       0.54      0.53      0.53       310\n",
            "          19       0.58      0.39      0.47       251\n",
            "\n",
            "    accuracy                           0.69      7532\n",
            "   macro avg       0.74      0.68      0.69      7532\n",
            "weighted avg       0.74      0.69      0.70      7532\n",
            "\n"
          ]
        }
      ]
    }
  ]
}